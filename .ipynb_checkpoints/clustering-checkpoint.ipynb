{
 "cells": [
  {
   "cell_type": "markdown",
   "id": "21223ab7",
   "metadata": {},
   "source": [
    "# Comp 561 Final Project"
   ]
  },
  {
   "cell_type": "markdown",
   "id": "3a004ae8",
   "metadata": {},
   "source": [
    "The goal of this is to study the expression patterns of four DNA mismatch repair genes, MLH1, MSH2, MSH6 and PMS2. Mutations in these genes are known to cause Lynch Syndrome, an autosomal dominantly inherited disorder of cancer susceptibility. We would like to see where each of these mutations are individually expressed, and if there is a link between which gene mutation you have and the type of cancer that one may receive in the future.\n",
    "\n",
    "## Background Information\n",
    "\n",
    "Insert some info on each mutation, and about Lynch Syndrome in general. \n",
    "\n",
    "## Hypothesis\n",
    "\n",
    "Mention:\n",
    "* Mutations in MLH1 is the most common in those who have Lynch Syndrome, why is this? It has low tissue specificity, which means we might expect it to be in many different types of cells\n",
    "* Stuff about each different gene\n",
    "* Overall, we are trying to figure out why mutations in each type of gene cause different types of cancers"
   ]
  },
  {
   "cell_type": "markdown",
   "id": "e13a4a2a",
   "metadata": {},
   "source": [
    "## Getting Data and Import Statements"
   ]
  },
  {
   "cell_type": "markdown",
   "id": "d4fa1382",
   "metadata": {},
   "source": [
    "PBMC Data:\n",
    "\n",
    "First, we need to get our data, so figure out how to install it from 10x genomics. The data consist of *3k PBMCs from a Healthy Donor* and are freely available from 10x Genomics ([here](http://cf.10xgenomics.com/samples/cell-exp/1.1.0/pbmc3k/pbmc3k_filtered_gene_bc_matrices.tar.gz) from this [webpage](https://support.10xgenomics.com/single-cell-gene-expression/datasets/1.1.0/pbmc3k)). On a unix system, you can uncomment and run the following to download and unpack the data. The last line creates a directory for writing processed data. (*note, edit this later since this is from the tutorial*)\n",
    "\n",
    "* Also, look into using different data set is not gonna have the types of cells that we want to look at............... ugh\n",
    "\n",
    "Alternative Data - Pancreas:\n",
    "\n",
    "The following data has been used in the scGen paper [[Lotfollahi19]](https://doi.org/10.1038/s41592-019-0494-8), has been used [here](https://nbviewer.jupyter.org/github/M0hammadL/scGen_notebooks/blob/master/notebooks/scgen_batch_removal.ipynb), was curated [here](https://nbviewer.jupyter.org/github/Teichlab/bbknn/blob/master/examples/pancreas.ipynb) and can be downloaded from [here (the BBKNN paper)](ftp://ngs.sanger.ac.uk/production/teichmann/BBKNN/objects-pancreas.zip).\n",
    "\n",
    "It contains data for human pancreas from 4 different studies (Segerstolpe16, Baron16, Wang16, Muraro16), which have been used in the seminal papers on single-cell dataset integration (Butler18, Haghverdi18) and many times ever since."
   ]
  },
  {
   "cell_type": "markdown",
   "id": "68d12451",
   "metadata": {},
   "source": [
    "Getting the data might look something like this (of course, uncomment I guess to get the data):"
   ]
  },
  {
   "cell_type": "code",
   "execution_count": null,
   "id": "4e1d92e4",
   "metadata": {},
   "outputs": [],
   "source": [
    "#!mkdir data\n",
    "# wget http://cf.10xgenomics.com/samples/cell-exp/1.1.0/pbmc3k/pbmc3k_filtered_gene_bc_matrices.tar.gz -O data/pbmc3k_filtered_gene_bc_matrices.tar.gz\n",
    "#!cd data; tar -xzf pbmc3k_filtered_gene_bc_matrices.tar.gz\n",
    "#!mkdir write"
   ]
  },
  {
   "cell_type": "markdown",
   "id": "db20c9f1",
   "metadata": {},
   "source": [
    "Now, we import necessary packages for data analysis (numpy, pandas, and scanpy):"
   ]
  },
  {
   "cell_type": "code",
   "execution_count": 3,
   "id": "10f3f547",
   "metadata": {},
   "outputs": [],
   "source": [
    "import numpy as np\n",
    "import pandas as pd\n",
    "import scanpy as sc"
   ]
  },
  {
   "cell_type": "markdown",
   "id": "2d48e2c4",
   "metadata": {},
   "source": [
    "## Preprocessing"
   ]
  },
  {
   "cell_type": "markdown",
   "id": "f7f8211f",
   "metadata": {},
   "source": [
    "I'm thinking here we can show how we clean the cell data (get rid of ones with barely any genes expression, normalize stuff, get it ready for analysis. Set up the right settings in scanpy so that we can get good results, set up diagram settings so it's nice and pretty. Use methods shown in the tutorials, and explain what each step does and why it is important."
   ]
  },
  {
   "cell_type": "markdown",
   "id": "8769f932",
   "metadata": {},
   "source": [
    "## Principal Component Analysis\n",
    "\n",
    "* This is used to reduce the dimensionality of the data, denoising the data and putting it into 2D.\n",
    "\n",
    "* Look at different clustering functions (louvain, tSNE, etc), explain what they do.\n",
    "\n",
    "* Check out variance ratio\n",
    "\n",
    "* Make AnnData (think this is just a format that you put it in so that you can analyze better. A little unclear)"
   ]
  },
  {
   "cell_type": "code",
   "execution_count": null,
   "id": "8c52c1ea",
   "metadata": {},
   "outputs": [],
   "source": [
    "# Insert code, maybe a diagram"
   ]
  },
  {
   "cell_type": "markdown",
   "id": "3735cdde",
   "metadata": {},
   "source": [
    "## Computing the neighborhood graph"
   ]
  },
  {
   "cell_type": "code",
   "execution_count": null,
   "id": "f4eb3dba",
   "metadata": {},
   "outputs": [],
   "source": []
  },
  {
   "cell_type": "markdown",
   "id": "476aea92",
   "metadata": {},
   "source": [
    "## Embedding the neighborhood graph"
   ]
  },
  {
   "cell_type": "code",
   "execution_count": null,
   "id": "4b77f566",
   "metadata": {},
   "outputs": [],
   "source": []
  },
  {
   "cell_type": "markdown",
   "id": "b41275ab",
   "metadata": {},
   "source": [
    "## Clustering the neighborhood graph"
   ]
  },
  {
   "cell_type": "code",
   "execution_count": null,
   "id": "e4257e10",
   "metadata": {},
   "outputs": [],
   "source": []
  },
  {
   "cell_type": "markdown",
   "id": "61d76393",
   "metadata": {},
   "source": [
    "## Finding marker genes\n",
    "\n",
    "Use different marker genes than they did, ones that are more relevant to use (look at different types of colon, endometrial cells, etc.)"
   ]
  },
  {
   "cell_type": "code",
   "execution_count": null,
   "id": "ab798df0",
   "metadata": {},
   "outputs": [],
   "source": []
  },
  {
   "cell_type": "markdown",
   "id": "23a808c5",
   "metadata": {},
   "source": [
    "## Expression of Lynch Syndrome genes\n",
    "\n",
    "Once we have made the graph and clustered based on marker genes (labeling each cluster), we can see how the four DNA repair genes are expressed within these cells. Some questions to consider:\n",
    "\n",
    "* What type of cells express these genes?\n",
    "* Which gene is expressed where?\n",
    "* Is one type of gene expressed in more types of cells? "
   ]
  },
  {
   "cell_type": "markdown",
   "id": "ae780fb2",
   "metadata": {},
   "source": [
    "## Analysis"
   ]
  },
  {
   "cell_type": "code",
   "execution_count": null,
   "id": "565207c5",
   "metadata": {},
   "outputs": [],
   "source": []
  },
  {
   "cell_type": "markdown",
   "id": "474fb0f6",
   "metadata": {},
   "source": [
    "We want to look at where our specific genes are expressed (in what type of cells). "
   ]
  }
 ],
 "metadata": {
  "kernelspec": {
   "display_name": "Python 3",
   "language": "python",
   "name": "python3"
  },
  "language_info": {
   "codemirror_mode": {
    "name": "ipython",
    "version": 3
   },
   "file_extension": ".py",
   "mimetype": "text/x-python",
   "name": "python",
   "nbconvert_exporter": "python",
   "pygments_lexer": "ipython3",
   "version": "3.8.8"
  }
 },
 "nbformat": 4,
 "nbformat_minor": 5
}
